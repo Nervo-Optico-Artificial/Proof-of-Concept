{
  "nbformat": 4,
  "nbformat_minor": 0,
  "metadata": {
    "colab": {
      "provenance": []
    },
    "kernelspec": {
      "name": "python3",
      "display_name": "Python 3"
    },
    "language_info": {
      "name": "python"
    }
  },
  "cells": [
    {
      "cell_type": "code",
      "source": [
        "from google.colab import drive\n",
        "drive.mount('/content/drive', True)"
      ],
      "metadata": {
        "id": "mQAoHrCgg1cI",
        "colab": {
          "base_uri": "https://localhost:8080/"
        },
        "outputId": "bbf38f36-071d-4f7f-e69c-532f2025b5b8"
      },
      "execution_count": null,
      "outputs": [
        {
          "output_type": "stream",
          "name": "stdout",
          "text": [
            "Mounted at /content/drive\n"
          ]
        }
      ]
    },
    {
      "cell_type": "code",
      "source": [
        "import cv2 #to process images\n",
        "import os #to navegate in files\n",
        "import shutil #to move files"
      ],
      "metadata": {
        "id": "cPJ4DsV8g6aR"
      },
      "execution_count": null,
      "outputs": []
    },
    {
      "cell_type": "code",
      "source": [
        "#Moving images from unlabeled folders to labeled directories\n",
        "def moveImages(paths: list, savePath: str):\n",
        "  filepath_images = []\n",
        "  for fileName in paths:\n",
        "    for f in os.listdir(fileName):\n",
        "      if(f[-6] == \"_\" and (int(f[-5]) >= 0)):\n",
        "        filepath_images.append(fileName + '/' + f)\n",
        "  for i in filepath_images:\n",
        "    shutil.move(i, savePath + str(i[-5]))\n",
        "\n",
        "  print(f'{len(filepath_images)} labeled images were moved.\\n')"
      ],
      "metadata": {
        "id": "PPa_uDC0WAUu"
      },
      "execution_count": null,
      "outputs": []
    },
    {
      "cell_type": "code",
      "source": [
        "#Counting how many labeled/unlabeled images are there\n",
        "def countImages(paths: list, svPath: str):\n",
        "  countLabeled = 0\n",
        "  countUnlabeled = 0\n",
        "  needMoving = False\n",
        "  for file_name in paths:\n",
        "    filepath_images = [f for f in os.listdir(file_name)]\n",
        "    for i in filepath_images:\n",
        "      if i[-6] == '_' and (int(i[-5]) >= 0):\n",
        "        countLabeled = countLabeled + 1\n",
        "        needMoving = True\n",
        "      else:\n",
        "        countUnlabeled = countUnlabeled + 1\n",
        "  for i in range(10):\n",
        "    countLabeled = countLabeled + len(os.listdir('/content/drive/MyDrive/NOA/images/' + str(i)))\n",
        "  print(f'There are {countLabeled} labeled images.\\n{countUnlabeled} images left!\\n')\n",
        "  if(needMoving):\n",
        "    print(\"There are images outside of their final directory, executing function 'moveImages' to redirect them to their respective folders.\")\n",
        "    moveImages(paths, svPath)\n",
        "  else:\n",
        "    print(\"All images are correctly placed in their respective folders.\")"
      ],
      "metadata": {
        "id": "Y8QHZM8lFVdy"
      },
      "execution_count": null,
      "outputs": []
    },
    {
      "cell_type": "code",
      "source": [
        "#Counting images\n",
        "basePath = '/content/drive/MyDrive/NOA/images/no_label_images/'\n",
        "savePath = '/content/drive/MyDrive/NOA/images/'\n",
        "paths = [basePath + x for x in os.listdir(basePath)]\n",
        "countImages(paths, savePath)"
      ],
      "metadata": {
        "id": "TzbATwybIdSK",
        "colab": {
          "base_uri": "https://localhost:8080/"
        },
        "outputId": "107a76b2-0acd-4453-f680-65980d18730b"
      },
      "execution_count": null,
      "outputs": [
        {
          "output_type": "stream",
          "name": "stdout",
          "text": [
            "There are 13359 labeled images.\n",
            "8675 images left!\n",
            "\n",
            "All images are correctly placed in their respective folders.\n"
          ]
        }
      ]
    },
    {
      "cell_type": "code",
      "source": [
        "#Moving images\n",
        "basePath = '/content/drive/MyDrive/NOA/images/no_label_images/'\n",
        "paths = [basePath + x for x in os.listdir(basePath)]\n",
        "\n",
        "moveImages(paths)"
      ],
      "metadata": {
        "id": "iwjGcMIjqoXR"
      },
      "execution_count": null,
      "outputs": []
    },
    {
      "cell_type": "code",
      "execution_count": null,
      "metadata": {
        "id": "1jCQ_ovTgJBt"
      },
      "outputs": [],
      "source": [
        "def mp4_to_jpg_sequence(mp4_path: str, data_path: str):\n",
        "    '''\n",
        "    mp4_path: string with video path\n",
        "    data_path: folder where images will be placed\n",
        "    '''\n",
        "    print(mp4_path)\n",
        "    vidcap = cv2.VideoCapture(mp4_path)\n",
        "    success, image = vidcap.read()\n",
        "    count = 1\n",
        "    while success:\n",
        "        if count%200 == 0:\n",
        "            cv2.imwrite(f\"{data_path}/image_{mp4_path[43:-11]}{count}.jpg\", image)\n",
        "        success, image = vidcap.read()\n",
        "        count += 1"
      ]
    },
    {
      "cell_type": "code",
      "source": [
        "#Listing every path for each video not processed yet. If it is empty, there are no new videos, but they should be put there daily, until we have enough.\n",
        "filepath_videos = list(map(lambda x: '/content/drive/MyDrive/NOA/original_videos/' + x, os.listdir('/content/drive/MyDrive/NOA/original_videos')))\n",
        "filepath_videos"
      ],
      "metadata": {
        "id": "0wVOy9QfQNtY",
        "colab": {
          "base_uri": "https://localhost:8080/"
        },
        "outputId": "68bfd9a2-7655-41c9-bbe2-140a1033865a"
      },
      "execution_count": null,
      "outputs": [
        {
          "output_type": "execute_result",
          "data": {
            "text/plain": [
              "[]"
            ]
          },
          "metadata": {},
          "execution_count": 8
        }
      ]
    },
    {
      "cell_type": "code",
      "source": [
        "#Converting mp4 files listed above to a set of images of every 200th frame in the videos\n",
        "for i in range(len(filepath_videos)):\n",
        "  mp4_to_jpg_sequence(filepath_videos[i], '/content/drive/MyDrive/NOA/images/no_label_images/no_labels_34/')"
      ],
      "metadata": {
        "id": "qqO83Lr_LMFC"
      },
      "execution_count": null,
      "outputs": []
    },
    {
      "cell_type": "code",
      "source": [
        "len(os.listdir('/content/drive/MyDrive/NOA/images/no_label_images/no_labels_34/'))"
      ],
      "metadata": {
        "colab": {
          "base_uri": "https://localhost:8080/"
        },
        "id": "oGfgzjPU8Hxl",
        "outputId": "bfe034ec-1394-4d9c-c35a-cfe4aa57d05e"
      },
      "execution_count": null,
      "outputs": [
        {
          "output_type": "execute_result",
          "data": {
            "text/plain": [
              "1711"
            ]
          },
          "metadata": {},
          "execution_count": 10
        }
      ]
    },
    {
      "cell_type": "markdown",
      "source": [
        "AS IMAGENS GERADAS POSSUEM RESOLUÇÃO 760x760, optei por não mudar a resolução ao salvar os arquivos pra gastar menos tempo, porém quando criarmos o modelo de contagem o ideal será diminuir para algum valor menor como 224x224 (padrão do imagenet e de outros datasets semelhantes), com os generators do tensorflow fica bem fácil de fazer"
      ],
      "metadata": {
        "id": "B7wUg3x3TjW0"
      }
    }
  ]
}